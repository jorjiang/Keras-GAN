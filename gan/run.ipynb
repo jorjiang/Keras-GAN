{
 "cells": [
  {
   "cell_type": "code",
   "execution_count": 1,
   "metadata": {},
   "outputs": [
    {
     "name": "stderr",
     "output_type": "stream",
     "text": [
      "Using TensorFlow backend.\n"
     ]
    }
   ],
   "source": [
    "from gan_emoji import GAN"
   ]
  },
  {
   "cell_type": "code",
   "execution_count": null,
   "metadata": {},
   "outputs": [
    {
     "name": "stdout",
     "output_type": "stream",
     "text": [
      "_________________________________________________________________\n",
      "Layer (type)                 Output Shape              Param #   \n",
      "=================================================================\n",
      "flatten_1 (Flatten)          (None, 2500)              0         \n",
      "_________________________________________________________________\n",
      "dense_1 (Dense)              (None, 512)               1280512   \n",
      "_________________________________________________________________\n",
      "leaky_re_lu_1 (LeakyReLU)    (None, 512)               0         \n",
      "_________________________________________________________________\n",
      "dense_2 (Dense)              (None, 256)               131328    \n",
      "_________________________________________________________________\n",
      "leaky_re_lu_2 (LeakyReLU)    (None, 256)               0         \n",
      "_________________________________________________________________\n",
      "dense_3 (Dense)              (None, 1)                 257       \n",
      "=================================================================\n",
      "Total params: 1,412,097\n",
      "Trainable params: 1,412,097\n",
      "Non-trainable params: 0\n",
      "_________________________________________________________________\n",
      "_________________________________________________________________\n",
      "Layer (type)                 Output Shape              Param #   \n",
      "=================================================================\n",
      "dense_4 (Dense)              (None, 256)               25856     \n",
      "_________________________________________________________________\n",
      "leaky_re_lu_3 (LeakyReLU)    (None, 256)               0         \n",
      "_________________________________________________________________\n",
      "batch_normalization_1 (Batch (None, 256)               1024      \n",
      "_________________________________________________________________\n",
      "dense_5 (Dense)              (None, 512)               131584    \n",
      "_________________________________________________________________\n",
      "leaky_re_lu_4 (LeakyReLU)    (None, 512)               0         \n",
      "_________________________________________________________________\n",
      "batch_normalization_2 (Batch (None, 512)               2048      \n",
      "_________________________________________________________________\n",
      "dense_6 (Dense)              (None, 1024)              525312    \n",
      "_________________________________________________________________\n",
      "leaky_re_lu_5 (LeakyReLU)    (None, 1024)              0         \n",
      "_________________________________________________________________\n",
      "batch_normalization_3 (Batch (None, 1024)              4096      \n",
      "_________________________________________________________________\n",
      "dense_7 (Dense)              (None, 2500)              2562500   \n",
      "_________________________________________________________________\n",
      "reshape_1 (Reshape)          (None, 50, 50, 1)         0         \n",
      "=================================================================\n",
      "Total params: 3,252,420\n",
      "Trainable params: 3,248,836\n",
      "Non-trainable params: 3,584\n",
      "_________________________________________________________________\n"
     ]
    }
   ],
   "source": [
    "g = GAN()"
   ]
  },
  {
   "cell_type": "code",
   "execution_count": null,
   "metadata": {},
   "outputs": [
    {
     "name": "stderr",
     "output_type": "stream",
     "text": [
      "/home/josh/anaconda3/envs/dl/lib/python3.6/site-packages/keras/engine/training.py:490: UserWarning: Discrepancy between trainable weights and collected trainable weights, did you set `model.trainable` without calling `model.compile` after ?\n",
      "  'Discrepancy between trainable weights and collected trainable'\n"
     ]
    },
    {
     "name": "stdout",
     "output_type": "stream",
     "text": [
      "0 [D loss: 0.693760, acc.: 50.00%] [G loss: 0.460736]\n",
      "2000 [D loss: 0.584499, acc.: 65.00%] [G loss: 0.969147]\n",
      "4000 [D loss: 0.349587, acc.: 80.00%] [G loss: 5.061241]\n",
      "6000 [D loss: 0.071395, acc.: 95.00%] [G loss: 6.249213]\n",
      "8000 [D loss: 0.197778, acc.: 95.00%] [G loss: 6.729090]\n",
      "10000 [D loss: 0.138299, acc.: 100.00%] [G loss: 2.183792]\n",
      "12000 [D loss: 0.270013, acc.: 85.00%] [G loss: 6.811057]\n",
      "14000 [D loss: 0.277336, acc.: 80.00%] [G loss: 7.244806]\n",
      "16000 [D loss: 0.737729, acc.: 40.00%] [G loss: 4.474006]\n",
      "18000 [D loss: 0.513766, acc.: 80.00%] [G loss: 2.531922]\n",
      "20000 [D loss: 0.889811, acc.: 45.00%] [G loss: 2.983619]\n",
      "22000 [D loss: 0.072312, acc.: 100.00%] [G loss: 7.535294]\n",
      "24000 [D loss: 0.143546, acc.: 90.00%] [G loss: 4.899843]\n",
      "26000 [D loss: 0.240732, acc.: 85.00%] [G loss: 4.173699]\n",
      "28000 [D loss: 0.138149, acc.: 90.00%] [G loss: 5.541423]\n",
      "30000 [D loss: 0.029815, acc.: 100.00%] [G loss: 4.234026]\n"
     ]
    }
   ],
   "source": [
    "g.train(epochs=100000, batch_size=10, sample_interval=500)"
   ]
  }
 ],
 "metadata": {
  "kernelspec": {
   "display_name": "Python 3",
   "language": "python",
   "name": "python3"
  },
  "language_info": {
   "codemirror_mode": {
    "name": "ipython",
    "version": 3
   },
   "file_extension": ".py",
   "mimetype": "text/x-python",
   "name": "python",
   "nbconvert_exporter": "python",
   "pygments_lexer": "ipython3",
   "version": "3.6.7"
  }
 },
 "nbformat": 4,
 "nbformat_minor": 2
}
