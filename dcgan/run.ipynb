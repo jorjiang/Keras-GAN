{
 "cells": [
  {
   "cell_type": "code",
   "execution_count": 1,
   "metadata": {},
   "outputs": [],
   "source": [
    "# %run dcgan.py"
   ]
  },
  {
   "cell_type": "code",
   "execution_count": null,
   "metadata": {},
   "outputs": [],
   "source": [
    "# %run dcgan_flag.py"
   ]
  },
  {
   "cell_type": "code",
   "execution_count": null,
   "metadata": {},
   "outputs": [
    {
     "name": "stderr",
     "output_type": "stream",
     "text": [
      "Using TensorFlow backend.\n"
     ]
    },
    {
     "name": "stdout",
     "output_type": "stream",
     "text": [
      "_________________________________________________________________\n",
      "Layer (type)                 Output Shape              Param #   \n",
      "=================================================================\n",
      "conv2d_1 (Conv2D)            (None, 36, 36, 32)        2432      \n",
      "_________________________________________________________________\n",
      "leaky_re_lu_1 (LeakyReLU)    (None, 36, 36, 32)        0         \n",
      "_________________________________________________________________\n",
      "dropout_1 (Dropout)          (None, 36, 36, 32)        0         \n",
      "_________________________________________________________________\n",
      "conv2d_2 (Conv2D)            (None, 18, 18, 64)        51264     \n",
      "_________________________________________________________________\n",
      "zero_padding2d_1 (ZeroPaddin (None, 19, 19, 64)        0         \n",
      "_________________________________________________________________\n",
      "batch_normalization_1 (Batch (None, 19, 19, 64)        256       \n",
      "_________________________________________________________________\n",
      "leaky_re_lu_2 (LeakyReLU)    (None, 19, 19, 64)        0         \n",
      "_________________________________________________________________\n",
      "dropout_2 (Dropout)          (None, 19, 19, 64)        0         \n",
      "_________________________________________________________________\n",
      "conv2d_3 (Conv2D)            (None, 10, 10, 128)       73856     \n",
      "_________________________________________________________________\n",
      "batch_normalization_2 (Batch (None, 10, 10, 128)       512       \n",
      "_________________________________________________________________\n",
      "leaky_re_lu_3 (LeakyReLU)    (None, 10, 10, 128)       0         \n",
      "_________________________________________________________________\n",
      "dropout_3 (Dropout)          (None, 10, 10, 128)       0         \n",
      "_________________________________________________________________\n",
      "conv2d_4 (Conv2D)            (None, 10, 10, 256)       295168    \n",
      "_________________________________________________________________\n",
      "batch_normalization_3 (Batch (None, 10, 10, 256)       1024      \n",
      "_________________________________________________________________\n",
      "leaky_re_lu_4 (LeakyReLU)    (None, 10, 10, 256)       0         \n",
      "_________________________________________________________________\n",
      "dropout_4 (Dropout)          (None, 10, 10, 256)       0         \n",
      "_________________________________________________________________\n",
      "flatten_1 (Flatten)          (None, 25600)             0         \n",
      "_________________________________________________________________\n",
      "dense_1 (Dense)              (None, 5)                 128005    \n",
      "_________________________________________________________________\n",
      "dense_2 (Dense)              (None, 1)                 6         \n",
      "=================================================================\n",
      "Total params: 552,523\n",
      "Trainable params: 551,627\n",
      "Non-trainable params: 896\n",
      "_________________________________________________________________\n",
      "_________________________________________________________________\n",
      "Layer (type)                 Output Shape              Param #   \n",
      "=================================================================\n",
      "dense_3 (Dense)              (None, 41472)             7506432   \n",
      "_________________________________________________________________\n",
      "reshape_1 (Reshape)          (None, 18, 18, 128)       0         \n",
      "_________________________________________________________________\n",
      "up_sampling2d_1 (UpSampling2 (None, 36, 36, 128)       0         \n",
      "_________________________________________________________________\n",
      "conv2d_5 (Conv2D)            (None, 36, 36, 128)       147584    \n",
      "_________________________________________________________________\n",
      "batch_normalization_4 (Batch (None, 36, 36, 128)       512       \n",
      "_________________________________________________________________\n",
      "activation_1 (Activation)    (None, 36, 36, 128)       0         \n",
      "_________________________________________________________________\n",
      "up_sampling2d_2 (UpSampling2 (None, 72, 72, 128)       0         \n",
      "_________________________________________________________________\n",
      "conv2d_6 (Conv2D)            (None, 72, 72, 64)        73792     \n",
      "_________________________________________________________________\n",
      "batch_normalization_5 (Batch (None, 72, 72, 64)        256       \n",
      "_________________________________________________________________\n",
      "activation_2 (Activation)    (None, 72, 72, 64)        0         \n",
      "_________________________________________________________________\n",
      "conv2d_7 (Conv2D)            (None, 72, 72, 3)         4803      \n",
      "_________________________________________________________________\n",
      "activation_3 (Activation)    (None, 72, 72, 3)         0         \n",
      "=================================================================\n",
      "Total params: 7,733,379\n",
      "Trainable params: 7,732,995\n",
      "Non-trainable params: 384\n",
      "_________________________________________________________________\n"
     ]
    },
    {
     "name": "stderr",
     "output_type": "stream",
     "text": [
      "/home/josh/anaconda3/envs/dl/lib/python3.6/site-packages/keras/engine/training.py:490: UserWarning: Discrepancy between trainable weights and collected trainable weights, did you set `model.trainable` without calling `model.compile` after ?\n",
      "  'Discrepancy between trainable weights and collected trainable'\n"
     ]
    },
    {
     "name": "stdout",
     "output_type": "stream",
     "text": [
      "0 [D loss: 0.929700, acc.: 30.00%] [G loss: 0.622668]\n",
      "2000 [D loss: 0.099860, acc.: 100.00%] [G loss: 4.470089]\n",
      "3000 [D loss: 0.204244, acc.: 95.00%] [G loss: 5.919803]\n",
      "4000 [D loss: 0.035279, acc.: 100.00%] [G loss: 7.938876]\n",
      "5000 [D loss: 0.011164, acc.: 100.00%] [G loss: 7.068152]\n",
      "6000 [D loss: 0.013032, acc.: 100.00%] [G loss: 4.262276]\n",
      "7000 [D loss: 0.253499, acc.: 85.00%] [G loss: 6.072045]\n",
      "8000 [D loss: 0.005176, acc.: 100.00%] [G loss: 10.700538]\n",
      "9000 [D loss: 0.003333, acc.: 100.00%] [G loss: 11.046499]\n",
      "10000 [D loss: 0.030876, acc.: 100.00%] [G loss: 8.732165]\n",
      "11000 [D loss: 0.000535, acc.: 100.00%] [G loss: 9.659753]\n",
      "12000 [D loss: 0.004664, acc.: 100.00%] [G loss: 9.928454]\n",
      "13000 [D loss: 0.001435, acc.: 100.00%] [G loss: 8.769567]\n",
      "14000 [D loss: 0.005644, acc.: 100.00%] [G loss: 11.028676]\n",
      "15000 [D loss: 0.004330, acc.: 100.00%] [G loss: 6.676656]\n",
      "16000 [D loss: 0.025956, acc.: 100.00%] [G loss: 9.754148]\n",
      "17000 [D loss: 0.003191, acc.: 100.00%] [G loss: 9.153789]\n",
      "18000 [D loss: 0.014301, acc.: 100.00%] [G loss: 8.953852]\n"
     ]
    }
   ],
   "source": [
    "%run dcgan_emoji_rgb.py"
   ]
  },
  {
   "cell_type": "code",
   "execution_count": null,
   "metadata": {},
   "outputs": [],
   "source": []
  }
 ],
 "metadata": {
  "kernelspec": {
   "display_name": "Python 3",
   "language": "python",
   "name": "python3"
  },
  "language_info": {
   "codemirror_mode": {
    "name": "ipython",
    "version": 3
   },
   "file_extension": ".py",
   "mimetype": "text/x-python",
   "name": "python",
   "nbconvert_exporter": "python",
   "pygments_lexer": "ipython3",
   "version": "3.6.7"
  }
 },
 "nbformat": 4,
 "nbformat_minor": 2
}
