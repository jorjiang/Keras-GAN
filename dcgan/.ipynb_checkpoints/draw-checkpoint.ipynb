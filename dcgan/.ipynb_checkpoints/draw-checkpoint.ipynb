{
 "cells": [
  {
   "cell_type": "code",
   "execution_count": 154,
   "metadata": {},
   "outputs": [
    {
     "name": "stdout",
     "output_type": "stream",
     "text": [
      "The autoreload extension is already loaded. To reload it, use:\n",
      "  %reload_ext autoreload\n"
     ]
    }
   ],
   "source": [
    "%load_ext autoreload\n",
    "%autoreload 2"
   ]
  },
  {
   "cell_type": "code",
   "execution_count": 155,
   "metadata": {},
   "outputs": [],
   "source": [
    "from keras.models import load_model\n",
    "import numpy as np\n",
    "from utils.image import video_from_imgs\n",
    "import matplotlib.pyplot as plt\n",
    "from utils.image import create_imgs_from_model\n",
    "from utils.helper import random_walk_space"
   ]
  },
  {
   "cell_type": "code",
   "execution_count": 179,
   "metadata": {},
   "outputs": [
    {
     "name": "stderr",
     "output_type": "stream",
     "text": [
      "/home/josh/anaconda3/envs/dl/lib/python3.6/site-packages/keras/engine/saving.py:292: UserWarning:\n",
      "\n",
      "No training configuration found in save file: the model was *not* compiled. Compile it manually.\n",
      "\n"
     ]
    }
   ],
   "source": [
    "gen = load_model('./saved_model_emoji_rgb/gen_9.5h')"
   ]
  },
  {
   "cell_type": "code",
   "execution_count": 184,
   "metadata": {},
   "outputs": [],
   "source": [
    "noises = random_walk_space(dim=180, step_length=0.05, length=1000, prob_change=0.05, restrict=2.5)"
   ]
  },
  {
   "cell_type": "code",
   "execution_count": 185,
   "metadata": {},
   "outputs": [
    {
     "data": {
      "text/plain": [
       "array([[ 0.28281986,  0.40472804,  1.25897855, ..., -1.77546826,\n",
       "        -0.68472644,  0.40143373],\n",
       "       [ 0.33281986,  0.45472804,  1.30897855, ..., -1.77546826,\n",
       "        -0.68472644,  0.40143373],\n",
       "       [ 0.38281986,  0.50472804,  1.35897855, ..., -1.77546826,\n",
       "        -0.68472644,  0.40143373],\n",
       "       ...,\n",
       "       [-2.11718014, -1.29527196,  1.60897855, ..., -0.97546826,\n",
       "         1.21527356, -2.39856627],\n",
       "       [-2.06718014, -1.29527196,  1.60897855, ..., -1.02546826,\n",
       "         1.26527356, -2.39856627],\n",
       "       [-2.01718014, -1.29527196,  1.60897855, ..., -1.07546826,\n",
       "         1.31527356, -2.39856627]])"
      ]
     },
     "execution_count": 185,
     "metadata": {},
     "output_type": "execute_result"
    }
   ],
   "source": [
    "noises"
   ]
  },
  {
   "cell_type": "code",
   "execution_count": 189,
   "metadata": {},
   "outputs": [],
   "source": [
    "import base64\n",
    "import io\n",
    "import os\n",
    "\n",
    "import matplotlib.animation as animation\n",
    "import matplotlib.image as mpimg\n",
    "import matplotlib.pyplot as plt\n",
    "import numpy as np\n",
    "from keras.engine.training import Model\n",
    "def create_video_from_model(model: Model, noises: np.ndarray,\n",
    "                            video_file: str, fps: int):\n",
    "\n",
    "    imgs = model.predict(noises)\n",
    "    imgs = imgs * 0.5 + 0.5\n",
    "    fig = plt.figure()\n",
    "    myimages = []\n",
    "    for img in imgs:\n",
    "        imgplot = plt.imshow(img, animated=True);\n",
    "        myimages.append([imgplot])\n",
    "\n",
    "    ani = animation.ArtistAnimation(fig, myimages)\n",
    "    ani.save(video_file, fps=fps)"
   ]
  },
  {
   "cell_type": "code",
   "execution_count": 190,
   "metadata": {},
   "outputs": [
    {
     "data": {
      "image/png": "[encoded data removed]",
      "text/plain": [
       "<Figure size 432x288 with 1 Axes>"
      ]
     },
     "metadata": {
      "needs_background": "light"
     },
     "output_type": "display_data"
    }
   ],
   "source": [
    "create_video_from_model(gen, noises, 'abc.mp4', 19)"
   ]
  },
  {
   "cell_type": "code",
   "execution_count": 187,
   "metadata": {},
   "outputs": [],
   "source": [
    "create_imgs_from_model(model=gen, noises=noises, img_folder='generated_emoji_rgb')\n",
    "\n",
    "video_from_imgs(img_folder='generated_emoji_rgb', video_file='generated_emoji.mp4', fps=19)"
   ]
  },
  {
   "cell_type": "markdown",
   "metadata": {},
   "source": [
    "<video controls src=\"generated_emoji.mp4\" />"
   ]
  },
  {
   "cell_type": "code",
   "execution_count": 72,
   "metadata": {},
   "outputs": [],
   "source": [
    "# import plotly.graph_objs as go\n",
    "# from plotly.offline import download_plotlyjs, init_notebook_mode, plot, iplot\n",
    "\n",
    "# init_notebook_mode(connected=True)\n",
    "\n",
    "# from utils.helper import random_walk_space\n",
    "\n",
    "# x = random_walk_space(dim=3, step_length=0.05, length=100, prob_change=0.1)\n",
    "\n",
    "# x.shape\n",
    "\n",
    "# trace1 = go.Scatter3d(\n",
    "#     x=x[:,0],\n",
    "#     y=x[:,1],\n",
    "#     z=x[:,2])\n",
    "\n",
    "# layout = go.Layout(\n",
    "#     margin=dict(\n",
    "#         l=0,\n",
    "#         r=0,\n",
    "#         b=0,\n",
    "#         t=0\n",
    "#     )\n",
    "# )\n",
    "\n",
    "# fig = go.Figure(data=[trace1], layout=layout)\n",
    "\n",
    "# iplot(fig, show_link=False)\n",
    "\n",
    "# position = np.random.normal(0, 1, 3)\n",
    "# position\n",
    "\n",
    "# np.random.choice([1, 0], 3)"
   ]
  }
 ],
 "metadata": {
  "kernelspec": {
   "display_name": "Python 3",
   "language": "python",
   "name": "python3"
  },
  "language_info": {
   "codemirror_mode": {
    "name": "ipython",
    "version": 3
   },
   "file_extension": ".py",
   "mimetype": "text/x-python",
   "name": "python",
   "nbconvert_exporter": "python",
   "pygments_lexer": "ipython3",
   "version": "3.6.7"
  }
 },
 "nbformat": 4,
 "nbformat_minor": 2
}
